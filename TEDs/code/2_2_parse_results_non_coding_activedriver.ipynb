{
 "cells": [
  {
   "cell_type": "code",
   "execution_count": 1,
   "metadata": {},
   "outputs": [],
   "source": [
    "import os \n",
    "import pandas as pd\n",
    "import glob\n",
    "from tqdm import tqdm\n",
    "pd.options.display.max_rows = 200\n",
    "import json\n",
    "from scipy import stats as st\n",
    "import numpy as np\n",
    "import statsmodels.stats.multitest as multitest\n",
    "import matplotlib.pyplot as plt\n",
    "from statsmodels.sandbox.stats.multicomp import fdrcorrection0"
   ]
  },
  {
   "cell_type": "markdown",
   "metadata": {},
   "source": [
    "### Load samples"
   ]
  },
  {
   "cell_type": "code",
   "execution_count": 2,
   "metadata": {},
   "outputs": [],
   "source": [
    "with open(\"../data/samples_untreated_updated.json\") as f: # see 1_create_treatment_cancertype_groups.ipynb\n",
    "    untreated=json.load(f)\n",
    "with open(\"../data/samples_mechanisms_updated.json\") as f: # see 1_create_treatment_cancertype_groups.ipynb\n",
    "    treated=json.load(f)    \n"
   ]
  },
  {
   "cell_type": "markdown",
   "metadata": {},
   "source": [
    "### Read output from ActiveDriver"
   ]
  },
  {
   "cell_type": "code",
   "execution_count": 4,
   "metadata": {
    "collapsed": true,
    "jupyter": {
     "outputs_hidden": true
    }
   },
   "outputs": [
    {
     "name": "stderr",
     "output_type": "stream",
     "text": [
      " 53%|█████▎    | 379/714 [02:12<01:47,  3.11it/s]"
     ]
    },
    {
     "name": "stdout",
     "output_type": "stream",
     "text": [
      "BLCA Alkaloid\n"
     ]
    },
    {
     "name": "stderr",
     "output_type": "stream",
     "text": [
      " 53%|█████▎    | 380/714 [02:12<01:44,  3.20it/s]"
     ]
    },
    {
     "name": "stdout",
     "output_type": "stream",
     "text": [
      "BLCA Alkaloid\n"
     ]
    },
    {
     "name": "stderr",
     "output_type": "stream",
     "text": [
      " 53%|█████▎    | 381/714 [02:12<01:42,  3.25it/s]"
     ]
    },
    {
     "name": "stdout",
     "output_type": "stream",
     "text": [
      "BLCA Alkaloid\n"
     ]
    },
    {
     "name": "stderr",
     "output_type": "stream",
     "text": [
      " 54%|█████▎    | 382/714 [02:13<01:38,  3.37it/s]"
     ]
    },
    {
     "name": "stdout",
     "output_type": "stream",
     "text": [
      "BLCA Alkaloid\n"
     ]
    },
    {
     "name": "stderr",
     "output_type": "stream",
     "text": [
      " 54%|█████▎    | 383/714 [02:13<01:42,  3.23it/s]"
     ]
    },
    {
     "name": "stdout",
     "output_type": "stream",
     "text": [
      "BLCA Alkaloid\n"
     ]
    },
    {
     "name": "stderr",
     "output_type": "stream",
     "text": [
      " 54%|█████▍    | 384/714 [02:13<01:43,  3.18it/s]"
     ]
    },
    {
     "name": "stdout",
     "output_type": "stream",
     "text": [
      "BLCA Alkaloid\n"
     ]
    },
    {
     "name": "stderr",
     "output_type": "stream",
     "text": [
      "100%|██████████| 714/714 [04:04<00:00,  2.93it/s]\n"
     ]
    }
   ],
   "source": [
    "l,l1=[],[]\n",
    "path_output_active_driver=\"/home/fran/Documents/cuppen/HPC/tunnel/cuppen/projects/P0025_PCAWG_HMF/drivers/analysis/dna-rep-ann/final-update/r-objects/non-coding-drivers/version-202211/*/*/*/*.results.activedriverwgs.tsv.gz\"\n",
    "for filein in tqdm(glob.glob(path_output_active_driver)):\n",
    "    treatment = os.path.basename(filein).split(\".\")[1]\n",
    "    type_element = os.path.basename(filein).split(\".\")[2]\n",
    "    ttype = os.path.basename(filein).split(\".\")[0]\n",
    "    df = pd.read_csv(filein,sep=\"\\t\")\n",
    "    df[\"treatment\"] = treatment\n",
    "    df[\"type_element\"] = type_element\n",
    "    df[\"cancer_type_code\"] = ttype\n",
    "    \n",
    "    if treatment == \"untreated\":\n",
    "        l1.append(df[(df[\"element_muts_obs\"]>0)])\n",
    "    else:\n",
    "        if not(treatment in (treated[ttype])):\n",
    "            print (ttype,treatment) # cancer type removed\n",
    "            continue\n",
    "\n",
    "        l.append(df[(df[\"fdr_element\"]<0.1)&(df[\"element_muts_obs\"]>2)])"
   ]
  },
  {
   "cell_type": "code",
   "execution_count": 5,
   "metadata": {},
   "outputs": [],
   "source": [
    "df_t = pd.concat(l).rename(columns={\"cacnet_type_code\":\"cancer_type_code\",\"type_element\":\"genomic_element\"})\n",
    "df_c = pd.concat(l1).rename(columns={\"element_muts_obs\":\"MUTS_CONTROL\",\"fdr_element\":\"QVALUE_CONTROL\",\"cacnet_type_code\":\"cancer_type_code\",\"type_element\":\"genomic_element\"})"
   ]
  },
  {
   "cell_type": "markdown",
   "metadata": {},
   "source": [
    "### Select drivers with fdr < 0.05, exclude drivers from Melanoma due to promoter hypermutation and non-specific genomic_elemnts "
   ]
  },
  {
   "cell_type": "code",
   "execution_count": 6,
   "metadata": {},
   "outputs": [],
   "source": [
    "comb=df_t[(df_t[\"fdr_element\"]<0.05)&(df_t[\"cancer_type_code\"]!=\"SKCM\")&(df_t[\"genomic_element\"]!=\"nc_elements\")].merge(df_c[[\"id\",\"cancer_type_code\",\"genomic_element\",\"MUTS_CONTROL\",\"QVALUE_CONTROL\"]],how=\"left\").fillna({\"QVALUE_CONTROL\":1.0}).fillna(0.0)"
   ]
  },
  {
   "cell_type": "markdown",
   "metadata": {},
   "source": [
    "### Compute enrichment in treatment groups"
   ]
  },
  {
   "cell_type": "code",
   "execution_count": 7,
   "metadata": {},
   "outputs": [],
   "source": [
    "def compare_treated_untreated(row):\n",
    "    # tretaed\n",
    "    n_treated = row[\"element_muts_obs\"]\n",
    "    total_treated = len(treated[row[\"cancer_type_code\"]][row[\"treatment\"]])\n",
    "    # untreated\n",
    "    n_untreated = row[\"MUTS_CONTROL\"]\n",
    "    total_untreated = len(untreated[row[\"cancer_type_code\"]][\"untreated\"])\n",
    "    odds,pvalue=st.fisher_exact([[n_treated,total_treated-n_treated],[n_untreated,total_untreated-n_untreated]])\n",
    "    if not(np.isfinite(odds)):\n",
    "        odds = (n_treated / total_treated ) / ((n_untreated +0.5) / total_untreated)\n",
    "    return pd.Series([np.log2(odds+0.01),pvalue])"
   ]
  },
  {
   "cell_type": "code",
   "execution_count": 8,
   "metadata": {},
   "outputs": [
    {
     "name": "stderr",
     "output_type": "stream",
     "text": [
      "/home/fran/miniconda3/envs/global/lib/python3.6/site-packages/ipykernel_launcher.py:6: SettingWithCopyWarning: \n",
      "A value is trying to be set on a copy of a slice from a DataFrame.\n",
      "Try using .loc[row_indexer,col_indexer] = value instead\n",
      "\n",
      "See the caveats in the documentation: https://pandas.pydata.org/pandas-docs/stable/user_guide/indexing.html#returning-a-view-versus-a-copy\n",
      "  \n"
     ]
    }
   ],
   "source": [
    "comb[[\"odds_ratio\",\"pvalue_fisher\"]] = comb.apply(lambda row: compare_treated_untreated(row),axis=1)\n",
    "# perform FDR correction\n",
    "l=[]\n",
    "for ttype in comb[\"cancer_type_code\"].unique():\n",
    "    q=comb[comb[\"cancer_type_code\"]==ttype]\n",
    "    q[\"qvalue\"] = fdrcorrection0(q[\"pvalue_fisher\"].values)[1]\n",
    "    l.append(q)\n",
    "comb=pd.concat(l)                                          \n",
    "comb[\"log_qvalue\"] = -np.log10(comb[\"qvalue\"])"
   ]
  },
  {
   "cell_type": "code",
   "execution_count": 9,
   "metadata": {},
   "outputs": [],
   "source": [
    "annotated_mc = pd.read_csv(\"../data/SuppTable8_TEDs - Annotated TEDs.tsv\",sep=\"\\t\").rename(columns={\"drug\":\"treatment\",\"cancertype\":\"cancer_type_code\",\"gene\":\"id\"})[[\"id\",\"cancer_type_code\",\"treatment\"]] # This is manually curated\n",
    "annotated_mc[\"annotated\"] = True\n",
    "d_maxv_mc=comb[(comb[\"qvalue\"]<0.1)].groupby([\"id\",\"cancer_type_code\"]).agg({\"qvalue\":np.nanmin}).to_dict()[\"qvalue\"]\n",
    "comb[\"representative_mech\"] = comb.apply(lambda row: d_maxv_mc[(row[\"id\"],row[\"cancer_type_code\"])] == row[\"qvalue\"] if ((row[\"id\"],row[\"cancer_type_code\"]) in d_maxv_mc and row[\"qvalue\"] < 0.1) else False,axis=1)\n",
    "comb = comb.merge(annotated_mc,how=\"left\").fillna({\"annotated\":False})\n",
    "comb[\"label\"] = comb.apply(lambda row: row[\"id\"].split(\"_\")[1]+\" [\" + row[\"genomic_element\"] +  \"] - \" + row[\"treatment\"] +\" (\"+row[\"cancer_type_code\"]+\")\",axis=1)\n",
    "comb[\"type_alt\"] = \"non-coding mutation\""
   ]
  },
  {
   "cell_type": "markdown",
   "metadata": {},
   "source": [
    "### Save the data"
   ]
  },
  {
   "cell_type": "code",
   "execution_count": null,
   "metadata": {},
   "outputs": [],
   "source": [
    "comb[[\"id\",\"treatment\",\"cancer_type_code\",\"genomic_element\",\"label\",\"type_alt\",\"qvalue\",\"log_qvalue\",\"odds_ratio\",\"element_muts_obs\",\"MUTS_CONTROL\",\"annotated\",\"representative_mech\"]].rename(\n",
    "    columns={\"id\":\"gene\",\"treatment\":\"drug\",\"q.value_TT_fdr\":\"qvalue\",\"odds_ratio\":\"log_odds_ratio\",\"element_muts_obs\":\"mutated_t\",\"MUTS_CONTROL\":\"mutated_c\"}).to_csv(\"../data/non_coding_results_resistance.tsv.gz\",sep=\"\\t\",index=False)"
   ]
  },
  {
   "cell_type": "code",
   "execution_count": 56,
   "metadata": {},
   "outputs": [],
   "source": [
    "comb[(comb[\"qvalue\"]<0.1)].to_csv(\"results/significant_hits_noncoding.tsv\",sep=\"\\t\",index=False) # Only significant hits"
   ]
  }
 ],
 "metadata": {
  "kernelspec": {
   "display_name": "Python 3 (ipykernel)",
   "language": "python",
   "name": "python3"
  },
  "language_info": {
   "codemirror_mode": {
    "name": "ipython",
    "version": 3
   },
   "file_extension": ".py",
   "mimetype": "text/x-python",
   "name": "python",
   "nbconvert_exporter": "python",
   "pygments_lexer": "ipython3",
   "version": "3.9.16"
  },
  "widgets": {
   "application/vnd.jupyter.widget-state+json": {
    "state": {},
    "version_major": 2,
    "version_minor": 0
   }
  }
 },
 "nbformat": 4,
 "nbformat_minor": 4
}
