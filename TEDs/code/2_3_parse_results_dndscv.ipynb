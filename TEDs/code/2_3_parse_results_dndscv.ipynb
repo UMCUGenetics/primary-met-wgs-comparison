{
 "cells": [
  {
   "cell_type": "code",
   "execution_count": 1,
   "metadata": {},
   "outputs": [],
   "source": [
    "import pandas as pd\n",
    "import json\n",
    "import glob\n",
    "import os\n",
    "import tqdm\n",
    "import numpy as np\n",
    "import matplotlib.pyplot as plt\n",
    "import seaborn as sns\n",
    "import scipy\n",
    "from statsmodels.sandbox.stats.multicomp import fdrcorrection0\n",
    "import matplotlib.patches as mpatches\n",
    "import umap\n",
    "import matplotlib\n",
    "import matplotlib.cm as cm"
   ]
  },
  {
   "cell_type": "markdown",
   "metadata": {},
   "source": [
    "### Load metadata"
   ]
  },
  {
   "cell_type": "code",
   "execution_count": 2,
   "metadata": {},
   "outputs": [],
   "source": [
    "df_meta = pd.read_csv(\"../../data/SuppTable1_sample_metadata - metadata.tsv\",sep=\"\\t\")"
   ]
  },
  {
   "cell_type": "markdown",
   "metadata": {},
   "source": [
    "### Read output from dndscv"
   ]
  },
  {
   "cell_type": "code",
   "execution_count": 39,
   "metadata": {},
   "outputs": [],
   "source": [
    "def count_unique(grp):\n",
    "    return len(set(grp))"
   ]
  },
  {
   "cell_type": "code",
   "execution_count": 40,
   "metadata": {},
   "outputs": [
    {
     "name": "stderr",
     "output_type": "stream",
     "text": [
      "100%|██████████| 120/120 [00:37<00:00,  3.21it/s]\n"
     ]
    }
   ],
   "source": [
    "path_base=\"/home/fran/Documents/cuppen/HPC/tunnel/cuppen/projects/P0025_PCAWG_HMF/drivers/processed/resistance/dndscv/\"\n",
    "list_info = []\n",
    "for file_output in tqdm.tqdm(glob.glob(os.path.join(path_base,\"*\",\"*.dndscv.results.tsv.gz\"))):\n",
    "    # name of ttype\n",
    "    ttype=os.path.dirname(file_output).split(\"/\")[-1]\n",
    "    treatment = os.path.basename(file_output).split(\".\")[0]\n",
    "    if treatment == \"untreated\":\n",
    "        continue\n",
    "    # read drivers\n",
    "    df_drivers = pd.read_csv(file_output,sep=\"\\t\")\n",
    "    df_drivers=df_drivers[df_drivers[\"qglobal_cv\"]<0.1]\n",
    "    df_drivers[\"non_synonimous\"] = df_drivers[\"n_mis\"] + df_drivers[\"n_non\"] +  df_drivers[\"n_spl\"] + df_drivers[\"n_ind\"]\n",
    "    \n",
    "    # get frequency of drivers\n",
    "    df_samples = pd.read_csv(os.path.join(os.path.dirname(file_output),f\"{treatment}.dndscv.annotmuts.tsv.gz\"),sep=\"\\t\",usecols=[\"sampleID\",\"gene\",\"impact\"],engine=\"python\")\n",
    "    n_samples = len(df_samples[\"sampleID\"].unique())\n",
    "    df_samples=df_samples[((df_samples[\"gene\"].isin(df_drivers[(df_drivers[\"qglobal_cv\"]<0.1)][\"gene_name\"].unique()))&(df_samples[\"impact\"]!=\"Synonymous\"))].rename(columns={\"gene\":\"gene_name\"})\n",
    "    df_samples=df_samples.groupby(\"gene_name\",as_index=False).agg(mutated_samples=(\"sampleID\",count_unique))\n",
    "    df_samples[\"freq\"] = df_samples[\"mutated_samples\"] / n_samples\n",
    "    \n",
    "    df_drivers = df_drivers.merge(df_samples[[\"freq\",\"gene_name\",\"mutated_samples\"]])\n",
    "    df_drivers[\"drug_type\"] = treatment\n",
    "    df_drivers[\"ttype\"] = ttype\n",
    "    df_drivers[\"total_samples\"] = n_samples\n",
    "    list_info.append(df_drivers)\n",
    "    \n",
    "df_total = pd.concat(list_info)\n"
   ]
  },
  {
   "cell_type": "code",
   "execution_count": 41,
   "metadata": {},
   "outputs": [],
   "source": [
    "driver_genes = set(df_total[\"gene_name\"].values)"
   ]
  },
  {
   "cell_type": "markdown",
   "metadata": {},
   "source": [
    "### Control"
   ]
  },
  {
   "cell_type": "code",
   "execution_count": 42,
   "metadata": {},
   "outputs": [
    {
     "name": "stderr",
     "output_type": "stream",
     "text": [
      "100%|██████████| 28/28 [00:10<00:00,  2.68it/s]\n"
     ]
    }
   ],
   "source": [
    "path_base=\"/home/fran/Documents/cuppen/HPC/tunnel/cuppen/projects/P0025_PCAWG_HMF/drivers/processed/resistance/dndscv/\"\n",
    "list_info = []\n",
    "for file_output in tqdm.tqdm(glob.glob(os.path.join(path_base,\"*\",\"untreated.dndscv.results.tsv.gz\"))):\n",
    "    # name of ttype\n",
    "    ttype=os.path.dirname(file_output).split(\"/\")[-1]\n",
    "    treatment=\"untreated\"    \n",
    "    # read drivers\n",
    "    df_drivers = pd.read_csv(file_output,sep=\"\\t\")\n",
    "    df_drivers[\"non_synonimous\"] = df_drivers[\"n_mis\"] + df_drivers[\"n_non\"] +  df_drivers[\"n_spl\"] + df_drivers[\"n_ind\"]\n",
    "    df_drivers=df_drivers[df_drivers[\"gene_name\"].isin(driver_genes)]\n",
    "    # get frequency of drivers\n",
    "    df_samples = pd.read_csv(os.path.join(os.path.dirname(file_output),f\"{treatment}.dndscv.annotmuts.tsv.gz\"),sep=\"\\t\",usecols=[\"sampleID\",\"gene\",\"impact\"],engine=\"python\")\n",
    "    n_samples = len(df_samples[\"sampleID\"].unique())\n",
    "    df_samples=df_samples[(df_samples[\"gene\"].isin(driver_genes))].rename(columns={\"gene\":\"gene_name\"})\n",
    "    df_samples=df_samples.groupby(\"gene_name\",as_index=False).agg(mutated_samples=(\"sampleID\",count_unique))\n",
    "    df_samples[\"freq\"] = df_samples[\"mutated_samples\"] / n_samples\n",
    "    \n",
    "    df_drivers = df_drivers.merge(df_samples[[\"freq\",\"gene_name\",\"mutated_samples\"]])\n",
    "    df_drivers[\"drug_type\"] = treatment\n",
    "    df_drivers[\"ttype\"] = ttype\n",
    "    df_drivers[\"total_samples\"] = n_samples\n",
    "    list_info.append(df_drivers)\n",
    "    \n",
    "df_control = pd.concat(list_info)\n",
    "control_genes = df_control[df_control[\"qglobal_cv\"]<0.1]"
   ]
  },
  {
   "cell_type": "markdown",
   "metadata": {},
   "source": [
    "### Perform ttype specific comparison"
   ]
  },
  {
   "cell_type": "code",
   "execution_count": 43,
   "metadata": {},
   "outputs": [],
   "source": [
    "def concat(grp):\n",
    "    return \",\".join(list(grp))\n",
    "df_summary=df_total.groupby([\"gene_name\"],as_index=False).agg(frequency_max=(\"freq\",np.nanmax),frequency_mean=(\"freq\",np.nanmean),avg_muts=(\"non_synonimous\",np.nanmean),max_muts=(\"non_synonimous\",np.nanmax),max_mutated_samples=(\"mutated_samples\",np.nanmax),mean_mutated_samples=(\"mutated_samples\",np.nanmean),n_drugs=(\"drug_type\",\"count\"),drugs=(\"drug_type\",concat))"
   ]
  },
  {
   "cell_type": "markdown",
   "metadata": {},
   "source": [
    "### Make comparison"
   ]
  },
  {
   "cell_type": "code",
   "execution_count": 44,
   "metadata": {},
   "outputs": [],
   "source": [
    "ttypes=list(df_total[\"ttype\"].unique())\n",
    "df_control.set_index([\"ttype\"],inplace=True)\n",
    "df_total.set_index([\"ttype\",\"drug_type\"],inplace=True)"
   ]
  },
  {
   "cell_type": "code",
   "execution_count": 45,
   "metadata": {},
   "outputs": [
    {
     "name": "stderr",
     "output_type": "stream",
     "text": [
      "  0%|          | 0/22 [00:00<?, ?it/s]/home/fran/miniconda3/envs/global/lib/python3.6/site-packages/ipykernel_launcher.py:8: PerformanceWarning: indexing past lexsort depth may impact performance.\n",
      "  \n",
      "100%|██████████| 22/22 [00:04<00:00,  4.71it/s]\n"
     ]
    }
   ],
   "source": [
    "results=[]\n",
    "qvalues=[]\n",
    "for ttype in tqdm.tqdm(ttypes):\n",
    "    pvalues=[]\n",
    "    for treatment in set(df_total.loc[ttype].index):\n",
    "        q=df_control.loc[ttype]\n",
    "        total_control= int(q[\"total_samples\"].values[0])\n",
    "        for i,r in  df_total.loc[(ttype,treatment)].iterrows():\n",
    "            gene,mutated_samples,total_samples = r[\"gene_name\"],r[\"mutated_samples\"],r[\"total_samples\"]\n",
    "            v=q[q[\"gene_name\"]==gene]\n",
    "            control_mutated=0\n",
    "            if v.shape[0] > 0:\n",
    "                control_mutated = int(v[\"mutated_samples\"].values[0])\n",
    "            odds,pvalue=scipy.stats.fisher_exact([[mutated_samples,total_samples-mutated_samples],[control_mutated,total_control-control_mutated]])\n",
    "            stat,pvalue_g=scipy.stats.power_divergence([mutated_samples,total_samples-mutated_samples],[np.nanmax([control_mutated,0.1]),total_control-control_mutated],lambda_=\"log-likelihood\")\n",
    "            results.append([gene,ttype,treatment,odds,pvalue,pvalue_g,r[\"non_synonimous\"],mutated_samples,total_samples,control_mutated,total_control,r[\"qglobal_cv\"]])\n",
    "            pvalues.append(pvalue)\n",
    "    qvalues+=list(fdrcorrection0(pvalues)[1])\n",
    "        "
   ]
  },
  {
   "cell_type": "code",
   "execution_count": 46,
   "metadata": {},
   "outputs": [],
   "source": [
    "df_stats = pd.DataFrame(results,columns=[\"gene\",\"ttype\",\"drug_type\",\"odds_ratio\",\"pvalue\",\"pvalue_g\",\"n_muts_t\",\"n_samples_mutated_t\",\"n_samples_t\",\"n_samples_mutated_c\",\"n_samples_c\",\"qvalue_dndscv\"])\n",
    "df_stats[\"qvalue\"] = fdrcorrection0(df_stats[\"pvalue\"].values)[1]\n",
    "df_stats[\"qvalue_ttype\"] = qvalues\n",
    "max_odds=np.max([np.log2(x) for x in df_stats[np.isfinite(df_stats[\"odds_ratio\"])][\"odds_ratio\"].values])\n",
    "df_stats[\"log_odds_ratio\"] = df_stats.apply(lambda row: np.log2(row[\"odds_ratio\"]+0.001) if np.isfinite(row[\"odds_ratio\"]) else np.log2((row[\"n_muts_t\"]/row[\"n_samples_mutated_t\"])/(0.1/row[\"n_samples_c\"])),axis=1)\n",
    "df_stats[\"log_qvalue\"] = -np.log10(df_stats[\"qvalue\"])\n",
    "df_stats[\"freq_mut\"] = df_stats[\"n_samples_mutated_t\"] / df_stats[\"n_samples_t\"]"
   ]
  },
  {
   "cell_type": "code",
   "execution_count": 47,
   "metadata": {},
   "outputs": [
    {
     "data": {
      "text/plain": [
       "19"
      ]
     },
     "execution_count": 47,
     "metadata": {},
     "output_type": "execute_result"
    }
   ],
   "source": [
    "len(df_stats[(df_stats[\"qvalue\"]<0.1)&(df_stats[\"log_odds_ratio\"]>0)][\"drug_type\"].unique())"
   ]
  },
  {
   "cell_type": "markdown",
   "metadata": {},
   "source": [
    "### Include excess"
   ]
  },
  {
   "cell_type": "code",
   "execution_count": 48,
   "metadata": {},
   "outputs": [],
   "source": [
    "def get_excess(q):\n",
    "    if q == 0:\n",
    "        return 0\n",
    "    return (q - 1) / q\n",
    "df_total[\"e_mis\"] = df_total.apply(lambda row: get_excess(row[\"wmis_cv\"]),axis=1 )\n",
    "df_total[\"e_non\"] = df_total.apply(lambda row: get_excess(row[\"wnon_cv\"]),axis=1 )\n",
    "df_total[\"e_spl\"] = df_total.apply(lambda row: get_excess(row[\"wspl_cv\"]),axis=1 )\n",
    "df_total[\"e_ind\"] = df_total.apply(lambda row: get_excess(row[\"wind_cv\"]),axis=1 )"
   ]
  },
  {
   "cell_type": "markdown",
   "metadata": {},
   "source": [
    "### Only mechanisms"
   ]
  },
  {
   "cell_type": "code",
   "execution_count": 52,
   "metadata": {},
   "outputs": [],
   "source": [
    "annotated_mc = pd.read_csv(\"../data/SuppTable8_TEDs - Annotated TEDs.tsv\",sep=\"\\t\").rename(columns={\"drug\":\"drug_type\",\"cancertype\":\"ttype\"})[[\"gene\",\"ttype\",\"drug_type\"]]\n",
    "annotated_mc[\"annotated\"] = True\n",
    "d_maxv_mc=df_stats[(df_stats[\"qvalue\"]<0.1)].groupby([\"gene\",\"ttype\"]).agg({\"qvalue\":np.nanmin}).to_dict()[\"qvalue\"]\n",
    "df_stats[\"representative_mech\"] = df_stats.apply(lambda row: d_maxv_mc[(row[\"gene\"],row[\"ttype\"])] == row[\"qvalue\"] if ((row[\"gene\"],row[\"ttype\"]) in d_maxv_mc and row[\"qvalue\"] < 0.05) else False,axis=1)\n",
    "df_stats = df_stats.merge(annotated_mc,how=\"left\").fillna({\"annotated\":False})\n",
    "df_stats[\"label\"] = df_stats.apply(lambda row: row[\"gene\"]+ \" - \" + row[\"drug_type\"] +\" (\"+row[\"ttype\"]+\")\",axis=1)\n",
    "df_stats[\"type_alt\"] = \"coding mutations\""
   ]
  },
  {
   "cell_type": "markdown",
   "metadata": {},
   "source": [
    "### Save data"
   ]
  },
  {
   "cell_type": "code",
   "execution_count": 53,
   "metadata": {},
   "outputs": [],
   "source": [
    "df_stats[[\"gene\",\"drug_type\",\"ttype\",\"label\",\"type_alt\",\"qvalue\",\"log_qvalue\",\"log_odds_ratio\",\"n_samples_mutated_t\",\"n_samples_mutated_c\",\"annotated\",\"representative_mech\"]].rename(\n",
    "    columns={\"ttype\":\"cancer_type_code\",\"drug_type\":\"drug\",\"q.value_TT_fdr\":\"qvalue\",\"log_odds_ratio\":\"log_odds_ratio\",\"n_samples_mutated_t\":\"mutated_t\",\"n_samples_mutated_c\":\"mutated_c\"}).to_csv(\"../data/coding_results_resistance.tsv.gz\",sep=\"\\t\",index=False)"
   ]
  }
 ],
 "metadata": {
  "kernelspec": {
   "display_name": "Python 3 (ipykernel)",
   "language": "python",
   "name": "python3"
  },
  "language_info": {
   "codemirror_mode": {
    "name": "ipython",
    "version": 3
   },
   "file_extension": ".py",
   "mimetype": "text/x-python",
   "name": "python",
   "nbconvert_exporter": "python",
   "pygments_lexer": "ipython3",
   "version": "3.9.16"
  },
  "widgets": {
   "application/vnd.jupyter.widget-state+json": {
    "state": {},
    "version_major": 2,
    "version_minor": 0
   }
  }
 },
 "nbformat": 4,
 "nbformat_minor": 4
}
