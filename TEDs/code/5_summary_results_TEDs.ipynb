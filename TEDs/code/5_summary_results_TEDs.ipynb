{
 "cells": [
  {
   "cell_type": "code",
   "execution_count": 1,
   "id": "425be54a",
   "metadata": {},
   "outputs": [],
   "source": [
    "import pandas as pd\n",
    "pd.options.display.max_columns=50\n",
    "from scipy import stats as st\n",
    "import numpy as np\n",
    "import matplotlib.pyplot as plt\n",
    "import json\n",
    "from matplotlib import cm\n",
    "import seaborn as sns\n",
    "\n",
    "# load info samples \n",
    "with open(\"../data/samples_untreated_updated.json\") as f:\n",
    "    d_untreated=json.load(f)\n",
    "with open(\"../data/samples_mechanisms_updated.json\") as f:\n",
    "    d_mechanisms=json.load(f)\n",
    "\n"
   ]
  },
  {
   "cell_type": "code",
   "execution_count": 2,
   "id": "d28e3e72",
   "metadata": {},
   "outputs": [],
   "source": [
    "def counts(grp):\n",
    "    total=[]\n",
    "    for i,t in enumerate(d_type_mech):\n",
    "        total.append(len(set(d_type_mech[t]).intersection(set(grp))))\n",
    "    return total\n",
    "\n",
    "d_type_mech={\"Chemotherapy\":[\"Platinum\",\"Pyrimidine_antagonist\",\"Taxane\",\"Anthracycline\",\"Alkylating\",\"Topoisomerase_inhibitor\",\"Alkaloid\", \n",
    "                             \"Folate_antagonist\",\"Microtubule_inhibitor\",\"Antitumor_antibiotic\",\"Vinca_Alkaloid\"],\n",
    "             \"Targeted therapy\":[\"Anti_VEGF\",\"Anti_EGFR\",\"Anti_HER2\",\"mTOR_inhibitor\",\"CDK4__6_inhibitor\",\"Multikinase_inhibitor\",\"MEK_inhibitor\",\n",
    "                                \"BRAF_inhibitor\",\"PARP_inhibitor\",\"Anti_PDGFR\",\"PARP_inhibitor\",\"ALK__ROS1_inhibitor\"],\n",
    "                             \"Immunotherapy\":[\"Immunotherapy\"],\n",
    "             \"Hormone therapy\":[\"Selective_ER_modulator\",'Aromatase_inhibitor','Anti_AR__GnRH'],\n",
    "            }\n",
    "colors_glob={\"Chemotherapy\":\"#ef8a62\",\"Targeted therapy\":\"#67a9cf\",\"Hormone therapy\":\"#999999\",\"Immunotherapy\":\"#cc0000\"}\n",
    "# all treatements\n",
    "s=set()\n",
    "for d in d_mechanisms:\n",
    "    s=s.union(set(d_mechanisms[d]))\n"
   ]
  },
  {
   "cell_type": "markdown",
   "id": "6b24501e",
   "metadata": {},
   "source": [
    "### Summary dataframe"
   ]
  },
  {
   "cell_type": "code",
   "execution_count": 22,
   "id": "7800a3c2",
   "metadata": {},
   "outputs": [
    {
     "data": {
      "text/html": [
       "<div>\n",
       "<style scoped>\n",
       "    .dataframe tbody tr th:only-of-type {\n",
       "        vertical-align: middle;\n",
       "    }\n",
       "\n",
       "    .dataframe tbody tr th {\n",
       "        vertical-align: top;\n",
       "    }\n",
       "\n",
       "    .dataframe thead th {\n",
       "        text-align: right;\n",
       "    }\n",
       "</style>\n",
       "<table border=\"1\" class=\"dataframe\">\n",
       "  <thead>\n",
       "    <tr style=\"text-align: right;\">\n",
       "      <th></th>\n",
       "      <th>cancer_type_code</th>\n",
       "      <th>drug</th>\n",
       "      <th>n_treated_samples</th>\n",
       "      <th>is_group</th>\n",
       "      <th>Chemotherapy</th>\n",
       "      <th>Targeted therapy</th>\n",
       "      <th>Immunotherapy</th>\n",
       "      <th>Hormone therapy</th>\n",
       "      <th>is_subtype</th>\n",
       "    </tr>\n",
       "  </thead>\n",
       "  <tbody>\n",
       "    <tr>\n",
       "      <th>0</th>\n",
       "      <td>BRCA</td>\n",
       "      <td>Platinum</td>\n",
       "      <td>64</td>\n",
       "      <td>True</td>\n",
       "      <td>1</td>\n",
       "      <td>0</td>\n",
       "      <td>0</td>\n",
       "      <td>0</td>\n",
       "      <td>False</td>\n",
       "    </tr>\n",
       "    <tr>\n",
       "      <th>1</th>\n",
       "      <td>BRCA</td>\n",
       "      <td>Pyrimidine_antagonist</td>\n",
       "      <td>288</td>\n",
       "      <td>True</td>\n",
       "      <td>1</td>\n",
       "      <td>0</td>\n",
       "      <td>0</td>\n",
       "      <td>0</td>\n",
       "      <td>False</td>\n",
       "    </tr>\n",
       "    <tr>\n",
       "      <th>2</th>\n",
       "      <td>BRCA</td>\n",
       "      <td>Taxane</td>\n",
       "      <td>367</td>\n",
       "      <td>True</td>\n",
       "      <td>1</td>\n",
       "      <td>0</td>\n",
       "      <td>0</td>\n",
       "      <td>0</td>\n",
       "      <td>False</td>\n",
       "    </tr>\n",
       "    <tr>\n",
       "      <th>3</th>\n",
       "      <td>BRCA</td>\n",
       "      <td>Anthracycline</td>\n",
       "      <td>387</td>\n",
       "      <td>True</td>\n",
       "      <td>1</td>\n",
       "      <td>0</td>\n",
       "      <td>0</td>\n",
       "      <td>0</td>\n",
       "      <td>False</td>\n",
       "    </tr>\n",
       "    <tr>\n",
       "      <th>4</th>\n",
       "      <td>BRCA</td>\n",
       "      <td>Alkylating</td>\n",
       "      <td>385</td>\n",
       "      <td>True</td>\n",
       "      <td>1</td>\n",
       "      <td>0</td>\n",
       "      <td>0</td>\n",
       "      <td>0</td>\n",
       "      <td>False</td>\n",
       "    </tr>\n",
       "    <tr>\n",
       "      <th>...</th>\n",
       "      <td>...</td>\n",
       "      <td>...</td>\n",
       "      <td>...</td>\n",
       "      <td>...</td>\n",
       "      <td>...</td>\n",
       "      <td>...</td>\n",
       "      <td>...</td>\n",
       "      <td>...</td>\n",
       "      <td>...</td>\n",
       "    </tr>\n",
       "    <tr>\n",
       "      <th>87</th>\n",
       "      <td>COREAD_MSS</td>\n",
       "      <td>Platinum</td>\n",
       "      <td>269</td>\n",
       "      <td>True</td>\n",
       "      <td>1</td>\n",
       "      <td>0</td>\n",
       "      <td>0</td>\n",
       "      <td>0</td>\n",
       "      <td>True</td>\n",
       "    </tr>\n",
       "    <tr>\n",
       "      <th>88</th>\n",
       "      <td>COREAD_MSS</td>\n",
       "      <td>Pyrimidine_antagonist</td>\n",
       "      <td>305</td>\n",
       "      <td>True</td>\n",
       "      <td>1</td>\n",
       "      <td>0</td>\n",
       "      <td>0</td>\n",
       "      <td>0</td>\n",
       "      <td>True</td>\n",
       "    </tr>\n",
       "    <tr>\n",
       "      <th>89</th>\n",
       "      <td>COREAD_MSS</td>\n",
       "      <td>Anti_VEGF</td>\n",
       "      <td>192</td>\n",
       "      <td>True</td>\n",
       "      <td>0</td>\n",
       "      <td>1</td>\n",
       "      <td>0</td>\n",
       "      <td>0</td>\n",
       "      <td>True</td>\n",
       "    </tr>\n",
       "    <tr>\n",
       "      <th>90</th>\n",
       "      <td>COREAD_MSS</td>\n",
       "      <td>Topoisomerase_inhibitor</td>\n",
       "      <td>132</td>\n",
       "      <td>True</td>\n",
       "      <td>1</td>\n",
       "      <td>0</td>\n",
       "      <td>0</td>\n",
       "      <td>0</td>\n",
       "      <td>True</td>\n",
       "    </tr>\n",
       "    <tr>\n",
       "      <th>91</th>\n",
       "      <td>COREAD_MSS</td>\n",
       "      <td>Anti_EGFR</td>\n",
       "      <td>43</td>\n",
       "      <td>True</td>\n",
       "      <td>0</td>\n",
       "      <td>1</td>\n",
       "      <td>0</td>\n",
       "      <td>0</td>\n",
       "      <td>True</td>\n",
       "    </tr>\n",
       "  </tbody>\n",
       "</table>\n",
       "<p>92 rows × 9 columns</p>\n",
       "</div>"
      ],
      "text/plain": [
       "   cancer_type_code                     drug  n_treated_samples  is_group  \\\n",
       "0              BRCA                 Platinum                 64      True   \n",
       "1              BRCA    Pyrimidine_antagonist                288      True   \n",
       "2              BRCA                   Taxane                367      True   \n",
       "3              BRCA            Anthracycline                387      True   \n",
       "4              BRCA               Alkylating                385      True   \n",
       "..              ...                      ...                ...       ...   \n",
       "87       COREAD_MSS                 Platinum                269      True   \n",
       "88       COREAD_MSS    Pyrimidine_antagonist                305      True   \n",
       "89       COREAD_MSS                Anti_VEGF                192      True   \n",
       "90       COREAD_MSS  Topoisomerase_inhibitor                132      True   \n",
       "91       COREAD_MSS                Anti_EGFR                 43      True   \n",
       "\n",
       "    Chemotherapy  Targeted therapy  Immunotherapy  Hormone therapy  is_subtype  \n",
       "0              1                 0              0                0       False  \n",
       "1              1                 0              0                0       False  \n",
       "2              1                 0              0                0       False  \n",
       "3              1                 0              0                0       False  \n",
       "4              1                 0              0                0       False  \n",
       "..           ...               ...            ...              ...         ...  \n",
       "87             1                 0              0                0        True  \n",
       "88             1                 0              0                0        True  \n",
       "89             0                 1              0                0        True  \n",
       "90             1                 0              0                0        True  \n",
       "91             0                 1              0                0        True  \n",
       "\n",
       "[92 rows x 9 columns]"
      ]
     },
     "execution_count": 22,
     "metadata": {},
     "output_type": "execute_result"
    }
   ],
   "source": [
    "l_summary=[]\n",
    "for tt in d_mechanisms:\n",
    "    if len(d_mechanisms[tt]) >0 :\n",
    "        f=False\n",
    "        for m in d_mechanisms[tt]:\n",
    "            x=len(d_mechanisms[tt][m])\n",
    "            c=counts([m])\n",
    "            l_summary.append([tt,m,x,x>=10]+c)\n",
    "df_summary = pd.DataFrame(l_summary,columns=[\"cancer_type_code\",\"drug\",\"n_treated_samples\",\"is_group\"]+list(d_type_mech.keys()))\n",
    "df_summary[\"is_subtype\"]=df_summary[\"cancer_type_code\"].str.contains(\"_\")\n",
    "df_summary"
   ]
  },
  {
   "cell_type": "code",
   "execution_count": 23,
   "id": "4a5d80c9",
   "metadata": {},
   "outputs": [
    {
     "data": {
      "text/plain": [
       "(59, 9)"
      ]
     },
     "execution_count": 23,
     "metadata": {},
     "output_type": "execute_result"
    }
   ],
   "source": [
    "df_summary[df_summary[\"is_subtype\"]==False].shape"
   ]
  },
  {
   "cell_type": "code",
   "execution_count": 24,
   "id": "5849a36c",
   "metadata": {},
   "outputs": [
    {
     "data": {
      "text/plain": [
       "(33, 9)"
      ]
     },
     "execution_count": 24,
     "metadata": {},
     "output_type": "execute_result"
    }
   ],
   "source": [
    "df_summary[df_summary[\"is_subtype\"]==True].shape"
   ]
  },
  {
   "cell_type": "code",
   "execution_count": 25,
   "id": "3bda66f8",
   "metadata": {},
   "outputs": [
    {
     "data": {
      "text/plain": [
       "(92, 9)"
      ]
     },
     "execution_count": 25,
     "metadata": {},
     "output_type": "execute_result"
    }
   ],
   "source": [
    "df_summary.shape"
   ]
  },
  {
   "cell_type": "markdown",
   "id": "bcc4efab",
   "metadata": {},
   "source": [
    "### Prepare color and labels"
   ]
  },
  {
   "cell_type": "code",
   "execution_count": 26,
   "id": "c89da01c",
   "metadata": {},
   "outputs": [],
   "source": [
    "list_c=[\"#702963\",\"#e8c8e2\",\"#d1b2cb\",\"#a892a4\", \"#808080\", \"#B4C424\",\"#d0de57\", \"#98FB98\", \"#228B22\", \"#008080\", \"#000080\", \"#40E0D0\", \"#87CEEB\", \"#FFB6C1\", \"#FF00FF\", \"#F33A6A\", \"#36454F\", \"#6F8FAF\", \"#A95C68\",\"#314175\", \"#8A9A5B\", \"#8B0000\", \"#FFC000\", \"#80461B\", \"#E49B0F\", \"#C2B280\", \"#EE4B2B\"]\n",
    "ttypes_o = [\"BRCA\",\"BRCA_ERpos\",\"BRCA_HER2pos\",\"BRCA_TNB\", \"GBM\", \"COREAD\",\"COREAD_MSS\", \"ESCA\", \"STAD\", \"CHOL\", \"LIHC\", \"PAAD\", \"PANET\", \"CESC\", \"OV\",\"UCEC\", \"HNSC\", \"KIRC\", \"LUAD\",\"LUSC\", \"DLBCL\", \"PRAD\", \"SKCM\", \"LMS\", \"LPS\", \"THCA\", \"BLCA\"] # by paper order\n",
    "d_colors = dict(zip(ttypes_o,list_c))"
   ]
  },
  {
   "cell_type": "markdown",
   "id": "62bbca49",
   "metadata": {},
   "source": [
    "### Read results"
   ]
  },
  {
   "cell_type": "code",
   "execution_count": 27,
   "id": "65f3f5ae",
   "metadata": {},
   "outputs": [],
   "source": [
    "results = pd.read_csv(\"../results/data/table_all_TEDS.tsv\",sep=\"\\t\")\n",
    "results=results[results[\"is_TED\"]]\n",
    "r=results[[\"cancer_type_code\",\"drug\"]].drop_duplicates().set_index(\"cancer_type_code\")"
   ]
  },
  {
   "cell_type": "code",
   "execution_count": 28,
   "id": "11c0fee4",
   "metadata": {},
   "outputs": [],
   "source": [
    "r1=results[[\"cancer_type_code\",\"drug\",\"is_subtype\"]].drop_duplicates()\n",
    "r1[\"found_TED\"] = True\n",
    "df_summary=df_summary.merge(r1,how=\"left\").fillna(False)\n",
    "df_summary[[\"cancer_type_code\",\"drug\",\"n_treated_samples\",\"Chemotherapy\",\"Targeted therapy\",\"Immunotherapy\",\"Hormone therapy\",\"found_TED\"]].sort_values([\"cancer_type_code\",\"n_treated_samples\"],ascending=[True,False]).to_csv(\"../data/info_treatment_groups_selected.tsv\",sep=\"\\t\",index=False)"
   ]
  },
  {
   "cell_type": "code",
   "execution_count": 29,
   "id": "a933d389",
   "metadata": {},
   "outputs": [
    {
     "data": {
      "text/html": [
       "<div>\n",
       "<style scoped>\n",
       "    .dataframe tbody tr th:only-of-type {\n",
       "        vertical-align: middle;\n",
       "    }\n",
       "\n",
       "    .dataframe tbody tr th {\n",
       "        vertical-align: top;\n",
       "    }\n",
       "\n",
       "    .dataframe thead th {\n",
       "        text-align: right;\n",
       "    }\n",
       "</style>\n",
       "<table border=\"1\" class=\"dataframe\">\n",
       "  <thead>\n",
       "    <tr style=\"text-align: right;\">\n",
       "      <th></th>\n",
       "      <th>cancer_type_code</th>\n",
       "      <th>drug</th>\n",
       "      <th>n_treated_samples</th>\n",
       "      <th>is_group</th>\n",
       "      <th>Chemotherapy</th>\n",
       "      <th>Targeted therapy</th>\n",
       "      <th>Immunotherapy</th>\n",
       "      <th>Hormone therapy</th>\n",
       "      <th>is_subtype</th>\n",
       "      <th>found_TED</th>\n",
       "    </tr>\n",
       "  </thead>\n",
       "  <tbody>\n",
       "    <tr>\n",
       "      <th>0</th>\n",
       "      <td>BRCA</td>\n",
       "      <td>Platinum</td>\n",
       "      <td>64</td>\n",
       "      <td>True</td>\n",
       "      <td>1</td>\n",
       "      <td>0</td>\n",
       "      <td>0</td>\n",
       "      <td>0</td>\n",
       "      <td>False</td>\n",
       "      <td>False</td>\n",
       "    </tr>\n",
       "    <tr>\n",
       "      <th>1</th>\n",
       "      <td>BRCA</td>\n",
       "      <td>Pyrimidine_antagonist</td>\n",
       "      <td>288</td>\n",
       "      <td>True</td>\n",
       "      <td>1</td>\n",
       "      <td>0</td>\n",
       "      <td>0</td>\n",
       "      <td>0</td>\n",
       "      <td>False</td>\n",
       "      <td>True</td>\n",
       "    </tr>\n",
       "    <tr>\n",
       "      <th>2</th>\n",
       "      <td>BRCA</td>\n",
       "      <td>Taxane</td>\n",
       "      <td>367</td>\n",
       "      <td>True</td>\n",
       "      <td>1</td>\n",
       "      <td>0</td>\n",
       "      <td>0</td>\n",
       "      <td>0</td>\n",
       "      <td>False</td>\n",
       "      <td>True</td>\n",
       "    </tr>\n",
       "    <tr>\n",
       "      <th>3</th>\n",
       "      <td>BRCA</td>\n",
       "      <td>Anthracycline</td>\n",
       "      <td>387</td>\n",
       "      <td>True</td>\n",
       "      <td>1</td>\n",
       "      <td>0</td>\n",
       "      <td>0</td>\n",
       "      <td>0</td>\n",
       "      <td>False</td>\n",
       "      <td>False</td>\n",
       "    </tr>\n",
       "    <tr>\n",
       "      <th>4</th>\n",
       "      <td>BRCA</td>\n",
       "      <td>Alkylating</td>\n",
       "      <td>385</td>\n",
       "      <td>True</td>\n",
       "      <td>1</td>\n",
       "      <td>0</td>\n",
       "      <td>0</td>\n",
       "      <td>0</td>\n",
       "      <td>False</td>\n",
       "      <td>True</td>\n",
       "    </tr>\n",
       "    <tr>\n",
       "      <th>...</th>\n",
       "      <td>...</td>\n",
       "      <td>...</td>\n",
       "      <td>...</td>\n",
       "      <td>...</td>\n",
       "      <td>...</td>\n",
       "      <td>...</td>\n",
       "      <td>...</td>\n",
       "      <td>...</td>\n",
       "      <td>...</td>\n",
       "      <td>...</td>\n",
       "    </tr>\n",
       "    <tr>\n",
       "      <th>87</th>\n",
       "      <td>COREAD_MSS</td>\n",
       "      <td>Platinum</td>\n",
       "      <td>269</td>\n",
       "      <td>True</td>\n",
       "      <td>1</td>\n",
       "      <td>0</td>\n",
       "      <td>0</td>\n",
       "      <td>0</td>\n",
       "      <td>True</td>\n",
       "      <td>False</td>\n",
       "    </tr>\n",
       "    <tr>\n",
       "      <th>88</th>\n",
       "      <td>COREAD_MSS</td>\n",
       "      <td>Pyrimidine_antagonist</td>\n",
       "      <td>305</td>\n",
       "      <td>True</td>\n",
       "      <td>1</td>\n",
       "      <td>0</td>\n",
       "      <td>0</td>\n",
       "      <td>0</td>\n",
       "      <td>True</td>\n",
       "      <td>False</td>\n",
       "    </tr>\n",
       "    <tr>\n",
       "      <th>89</th>\n",
       "      <td>COREAD_MSS</td>\n",
       "      <td>Anti_VEGF</td>\n",
       "      <td>192</td>\n",
       "      <td>True</td>\n",
       "      <td>0</td>\n",
       "      <td>1</td>\n",
       "      <td>0</td>\n",
       "      <td>0</td>\n",
       "      <td>True</td>\n",
       "      <td>True</td>\n",
       "    </tr>\n",
       "    <tr>\n",
       "      <th>90</th>\n",
       "      <td>COREAD_MSS</td>\n",
       "      <td>Topoisomerase_inhibitor</td>\n",
       "      <td>132</td>\n",
       "      <td>True</td>\n",
       "      <td>1</td>\n",
       "      <td>0</td>\n",
       "      <td>0</td>\n",
       "      <td>0</td>\n",
       "      <td>True</td>\n",
       "      <td>False</td>\n",
       "    </tr>\n",
       "    <tr>\n",
       "      <th>91</th>\n",
       "      <td>COREAD_MSS</td>\n",
       "      <td>Anti_EGFR</td>\n",
       "      <td>43</td>\n",
       "      <td>True</td>\n",
       "      <td>0</td>\n",
       "      <td>1</td>\n",
       "      <td>0</td>\n",
       "      <td>0</td>\n",
       "      <td>True</td>\n",
       "      <td>False</td>\n",
       "    </tr>\n",
       "  </tbody>\n",
       "</table>\n",
       "<p>92 rows × 10 columns</p>\n",
       "</div>"
      ],
      "text/plain": [
       "   cancer_type_code                     drug  n_treated_samples  is_group  \\\n",
       "0              BRCA                 Platinum                 64      True   \n",
       "1              BRCA    Pyrimidine_antagonist                288      True   \n",
       "2              BRCA                   Taxane                367      True   \n",
       "3              BRCA            Anthracycline                387      True   \n",
       "4              BRCA               Alkylating                385      True   \n",
       "..              ...                      ...                ...       ...   \n",
       "87       COREAD_MSS                 Platinum                269      True   \n",
       "88       COREAD_MSS    Pyrimidine_antagonist                305      True   \n",
       "89       COREAD_MSS                Anti_VEGF                192      True   \n",
       "90       COREAD_MSS  Topoisomerase_inhibitor                132      True   \n",
       "91       COREAD_MSS                Anti_EGFR                 43      True   \n",
       "\n",
       "    Chemotherapy  Targeted therapy  Immunotherapy  Hormone therapy  \\\n",
       "0              1                 0              0                0   \n",
       "1              1                 0              0                0   \n",
       "2              1                 0              0                0   \n",
       "3              1                 0              0                0   \n",
       "4              1                 0              0                0   \n",
       "..           ...               ...            ...              ...   \n",
       "87             1                 0              0                0   \n",
       "88             1                 0              0                0   \n",
       "89             0                 1              0                0   \n",
       "90             1                 0              0                0   \n",
       "91             0                 1              0                0   \n",
       "\n",
       "    is_subtype  found_TED  \n",
       "0        False      False  \n",
       "1        False       True  \n",
       "2        False       True  \n",
       "3        False      False  \n",
       "4        False       True  \n",
       "..         ...        ...  \n",
       "87        True      False  \n",
       "88        True      False  \n",
       "89        True       True  \n",
       "90        True      False  \n",
       "91        True      False  \n",
       "\n",
       "[92 rows x 10 columns]"
      ]
     },
     "execution_count": 29,
     "metadata": {},
     "output_type": "execute_result"
    }
   ],
   "source": [
    "df_summary"
   ]
  },
  {
   "cell_type": "code",
   "execution_count": 10,
   "id": "bc4e20a7",
   "metadata": {},
   "outputs": [
    {
     "data": {
      "text/plain": [
       "(33, 5)"
      ]
     },
     "execution_count": 10,
     "metadata": {},
     "output_type": "execute_result"
    }
   ],
   "source": [
    "r1.shape"
   ]
  },
  {
   "cell_type": "code",
   "execution_count": 11,
   "id": "a98f3129",
   "metadata": {},
   "outputs": [
    {
     "data": {
      "text/plain": [
       "array(['Breast cancer ER+/HER2-', 'Breast cancer triple negative',\n",
       "       'Colorectal cancer MSS'], dtype=object)"
      ]
     },
     "execution_count": 11,
     "metadata": {},
     "output_type": "execute_result"
    }
   ],
   "source": [
    "r1[r1[\"is_subtype\"]][\"cancer_type\"].unique()"
   ]
  },
  {
   "cell_type": "code",
   "execution_count": 12,
   "id": "b694897d",
   "metadata": {},
   "outputs": [
    {
     "data": {
      "text/plain": [
       "19"
      ]
     },
     "execution_count": 12,
     "metadata": {},
     "output_type": "execute_result"
    }
   ],
   "source": [
    "len(r1[\"drug\"].unique())"
   ]
  },
  {
   "cell_type": "code",
   "execution_count": 13,
   "id": "f8a10bb8",
   "metadata": {},
   "outputs": [
    {
     "data": {
      "text/plain": [
       "(61, 25)"
      ]
     },
     "execution_count": 13,
     "metadata": {},
     "output_type": "execute_result"
    }
   ],
   "source": [
    "results[results[\"is_TED\"]].shape"
   ]
  },
  {
   "cell_type": "markdown",
   "id": "5918d69b",
   "metadata": {},
   "source": [
    "### Visualize the pie chart (Fig. 5a)"
   ]
  },
  {
   "cell_type": "code",
   "execution_count": 14,
   "id": "7444820a",
   "metadata": {},
   "outputs": [
    {
     "data": {
      "image/png": "[encoded data removed]",
      "text/plain": [
       "<Figure size 432x288 with 1 Axes>"
      ]
     },
     "metadata": {},
     "output_type": "display_data"
    }
   ],
   "source": [
    "fig, ax = plt.subplots()\n",
    "\n",
    "size = 0.3\n",
    "vals = np.array([[60., 32.], [37., 40.], [29., 10.]])\n",
    "\n",
    "v,c,labels, v1 =[],[],[], []\n",
    "cmap = plt.cm.tab20_r\n",
    "outer_colors = cmap(np.arange(3)*4)\n",
    "inner_colors = colors_glob.values()\n",
    "\n",
    "for tt in ttypes_o:\n",
    "    if tt in r.index:\n",
    "        f=False\n",
    "        k=list(r.loc[tt][[\"drug\"]].values)\n",
    "        if len(k) == 1:\n",
    "            k=[k]\n",
    "        for m in k:\n",
    "            v.append(1)\n",
    "            if len(m)>0:\n",
    "                v1.append(counts(m))\n",
    "            else:\n",
    "                v1.append(counts([m]))\n",
    "            c.append(d_colors[tt])\n",
    "            if not(f):\n",
    "                labels.append(tt+f\" (N={len(k)})\")\n",
    "            else:\n",
    "                labels.append(\"\")\n",
    "            f=True\n",
    "            \n",
    "        \n",
    "wd, _=ax.pie(v, radius=1, colors=c,\n",
    "       wedgeprops=dict(width=size, edgecolor='w'),labels=labels)\n",
    "\n",
    "for w in wd:\n",
    "    w.set_linewidth(0.5)\n",
    "    w.set_edgecolor('white')\n",
    "wd, _=ax.pie(np.array(v1).flatten(), radius=1-size, colors=inner_colors,       wedgeprops=dict(width=size, edgecolor='w'))\n",
    "\n",
    "for w in wd:\n",
    "    w.set_linewidth(0.5)\n",
    "    w.set_edgecolor('white')\n",
    "plt.savefig(f'../results/figures/pie_results.pdf', dpi=800,bbox_inches=\"tight\")\n",
    "\n",
    "#plt.show()\n"
   ]
  },
  {
   "cell_type": "markdown",
   "id": "4b48cd02",
   "metadata": {},
   "source": [
    "### Save list of drivers to substrat them from the dps analysis"
   ]
  },
  {
   "cell_type": "code",
   "execution_count": 17,
   "id": "5931d54b",
   "metadata": {},
   "outputs": [],
   "source": [
    "results[\"gene_driver\"] = results.apply(lambda r: r[\"label\"].split(\"-\")[0].split(\" \")[0],axis=1)"
   ]
  },
  {
   "cell_type": "code",
   "execution_count": 19,
   "id": "009cebb7",
   "metadata": {},
   "outputs": [],
   "source": [
    "results[results[\"is_subtype\"]==False][[\"gene_driver\",\"cancer_type_code\",\"type_alt\"]].drop_duplicates().to_csv(\"../results/data/list_drivers_resistance.tsv\",sep=\"\\t\",index=False)"
   ]
  },
  {
   "cell_type": "code",
   "execution_count": null,
   "id": "37c84f20",
   "metadata": {},
   "outputs": [],
   "source": []
  }
 ],
 "metadata": {
  "kernelspec": {
   "display_name": "Python 3 (ipykernel)",
   "language": "python",
   "name": "python3"
  },
  "language_info": {
   "codemirror_mode": {
    "name": "ipython",
    "version": 3
   },
   "file_extension": ".py",
   "mimetype": "text/x-python",
   "name": "python",
   "nbconvert_exporter": "python",
   "pygments_lexer": "ipython3",
   "version": "3.9.16"
  },
  "widgets": {
   "application/vnd.jupyter.widget-state+json": {
    "state": {},
    "version_major": 2,
    "version_minor": 0
   }
  }
 },
 "nbformat": 4,
 "nbformat_minor": 5
}
