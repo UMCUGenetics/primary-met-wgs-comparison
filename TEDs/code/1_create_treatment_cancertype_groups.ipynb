{
 "cells": [
  {
   "cell_type": "code",
   "execution_count": 9,
   "metadata": {},
   "outputs": [],
   "source": [
    "import pandas as pd\n",
    "import os\n",
    "import json\n",
    "pd.options.display.max_columns=100\n",
    "import re"
   ]
  },
  {
   "cell_type": "code",
   "execution_count": 10,
   "metadata": {},
   "outputs": [
    {
     "data": {
      "text/plain": [
       "(9659, 6)"
      ]
     },
     "execution_count": 10,
     "metadata": {},
     "output_type": "execute_result"
    }
   ],
   "source": [
    "df_meta = pd.read_csv(\"../../data/SuppTable1_sample_metadata - metadata.tsv\",sep=\"\\t\") # Supp. Table 1 \n",
    "df_meta=df_meta[df_meta[\"is_blacklisted\"]==False]\n",
    "df_meta_hmf=df_meta[df_meta[\"cohort\"]==\"Hartwig\"]\n",
    "df_meta_pcawg=df_meta[df_meta[\"cohort\"]==\"PCAWG\"]\n",
    "df_pre = pd.read_csv(\"/home/fran/Documents/cuppen/HPC/tunnel/cuppen/shared_resources/HMF_data/DR-104-update5/pre_biopsy_drugs.tsv\",sep=\"\\t\") # This information is part of the clinical data of Hartwig, not avaliable unless you have approved access\n",
    "df_pre.shape"
   ]
  },
  {
   "cell_type": "code",
   "execution_count": 11,
   "metadata": {},
   "outputs": [
    {
     "name": "stderr",
     "output_type": "stream",
     "text": [
      "/home/fran/miniconda3/envs/global/lib/python3.6/site-packages/ipykernel_launcher.py:4: SettingWithCopyWarning: \n",
      "A value is trying to be set on a copy of a slice from a DataFrame.\n",
      "Try using .loc[row_indexer,col_indexer] = value instead\n",
      "\n",
      "See the caveats in the documentation: https://pandas.pydata.org/pandas-docs/stable/user_guide/indexing.html#returning-a-view-versus-a-copy\n",
      "  after removing the cwd from sys.path.\n"
     ]
    }
   ],
   "source": [
    "# Match sample ID with patient treatment\n",
    "def get_patient_identifier(row):\n",
    "    return re.search(\"([A-Z]+[0-9]+)[TI]+\",row[\"sample_id\"]).group(1)\n",
    "df_meta_hmf[\"patientIdentifier\"] = df_meta_hmf.apply(lambda row: get_patient_identifier(row),axis=1)"
   ]
  },
  {
   "cell_type": "markdown",
   "metadata": {},
   "source": [
    "### Select cancer types with, at least, 15 samples"
   ]
  },
  {
   "cell_type": "code",
   "execution_count": 12,
   "metadata": {},
   "outputs": [],
   "source": [
    "# ttypes primary\n",
    "tmp  = df_meta_pcawg[\"cancer_type_code\"].value_counts()\n",
    "ttypes_represented_primary = list(tmp[tmp>14].index)\n",
    "# ttypes met\n",
    "tmp  = df_meta_hmf[\"cancer_type_code\"].value_counts()\n",
    "ttypes_represented_met = list(tmp[tmp>14].index)\n",
    "\n",
    "ttypes_selected = set(ttypes_represented_met).intersection(ttypes_represented_primary)"
   ]
  },
  {
   "cell_type": "code",
   "execution_count": 13,
   "metadata": {},
   "outputs": [
    {
     "data": {
      "text/plain": [
       "23"
      ]
     },
     "execution_count": 13,
     "metadata": {},
     "output_type": "execute_result"
    }
   ],
   "source": [
    "len(ttypes_selected)"
   ]
  },
  {
   "cell_type": "markdown",
   "metadata": {},
   "source": [
    "### Select patients from Hartwig"
   ]
  },
  {
   "cell_type": "code",
   "execution_count": 14,
   "metadata": {},
   "outputs": [],
   "source": [
    "samples_id = set(df_meta_hmf[\"patient_id\"].values)\n",
    "df_pre=df_pre.merge(df_meta_hmf[[\"cancer_type\",\"cancer_type_code\",\"patientIdentifier\",\"sample_id\"]])"
   ]
  },
  {
   "cell_type": "code",
   "execution_count": 15,
   "metadata": {},
   "outputs": [],
   "source": [
    "df_pre.to_csv(\"../data/info_treatment_patients_selected.tsv\",sep=\"\\t\",index=False)"
   ]
  },
  {
   "cell_type": "code",
   "execution_count": 16,
   "metadata": {},
   "outputs": [
    {
     "data": {
      "text/plain": [
       "1902"
      ]
     },
     "execution_count": 16,
     "metadata": {},
     "output_type": "execute_result"
    }
   ],
   "source": [
    "len(set(df_pre[\"patientIdentifier\"]))"
   ]
  },
  {
   "cell_type": "code",
   "execution_count": 17,
   "metadata": {},
   "outputs": [
    {
     "data": {
      "text/plain": [
       "(323, 2)"
      ]
     },
     "execution_count": 17,
     "metadata": {},
     "output_type": "execute_result"
    }
   ],
   "source": [
    "df_pre[[\"mechanism\",\"cancer_type_code\"]].drop_duplicates().shape"
   ]
  },
  {
   "cell_type": "markdown",
   "metadata": {},
   "source": [
    "### mechanism "
   ]
  },
  {
   "cell_type": "code",
   "execution_count": 18,
   "metadata": {},
   "outputs": [],
   "source": [
    "d_mechanisms = {}\n",
    "eqv_names = {}"
   ]
  },
  {
   "cell_type": "markdown",
   "metadata": {},
   "source": [
    "### Create them"
   ]
  },
  {
   "cell_type": "code",
   "execution_count": 19,
   "metadata": {},
   "outputs": [
    {
     "name": "stdout",
     "output_type": "stream",
     "text": [
      "Platinum 64 64\n",
      "Pyrimidine_antagonist 288 288\n",
      "Taxane 367 367\n",
      "Anthracycline 387 387\n",
      "Alkylating 385 385\n",
      "Selective_ER_modulator 398 398\n",
      "Aromatase_inhibitor 354 354\n",
      "Anti_VEGF 36 36\n",
      "Anti_AR__GnRH 78 78\n",
      "Alkaloid 48 48\n",
      "Folate_antagonist 34 34\n",
      "Anti_HER2 78 78\n",
      "mTOR_inhibitor 67 67\n",
      "CDK4__6_inhibitor 68 68\n",
      "Microtubule_inhibitor 22 22\n",
      "Immunotherapy 43 43\n",
      "MEK_inhibitor 11 11\n",
      "BRAF_inhibitor 13 13\n",
      "Platinum 274 274\n",
      "Pyrimidine_antagonist 314 314\n",
      "Anti_VEGF 195 195\n",
      "Topoisomerase_inhibitor 136 136\n",
      "Anti_EGFR 44 44\n",
      "Platinum 18 18\n",
      "Pyrimidine_antagonist 17 17\n",
      "Platinum 13 13\n",
      "Pyrimidine_antagonist 13 13\n",
      "Multikinase_inhibitor 22 22\n",
      "Platinum 75 75\n",
      "Pyrimidine_antagonist 68 68\n",
      "Platinum 64 64\n",
      "Pyrimidine_antagonist 29 29\n",
      "Taxane 45 45\n",
      "Platinum 18 18\n",
      "Platinum 21 21\n",
      "Pyrimidine_antagonist 16 16\n",
      "Platinum 10 10\n",
      "Pyrimidine_antagonist 22 22\n",
      "Topoisomerase_inhibitor 11 11\n",
      "Anthracycline 13 13\n",
      "Platinum 71 71\n",
      "Taxane 12 12\n",
      "Folate_antagonist 65 65\n",
      "Anti_EGFR 41 41\n",
      "Immunotherapy 11 11\n",
      "Platinum 21 21\n",
      "Taxane 13 13\n",
      "Taxane 229 229\n",
      "Anti_AR__GnRH 324 324\n",
      "Immunotherapy 14 14\n",
      "Alkylating 13 13\n",
      "Platinum 85 85\n",
      "Pyrimidine_antagonist 24 24\n",
      "Taxane 81 81\n",
      "Anthracycline 26 26\n",
      "Selective_ER_modulator 16 16\n",
      "Anti_VEGF 22 22\n",
      "Platinum 15 15\n",
      "Taxane 13 13\n"
     ]
    }
   ],
   "source": [
    "d_selected_mechanisms = {\"Platinum\":[],\"Pyrimidine (ant)agonist\":[],\"Taxane\":[],\"Anthracycline\":[],\"Alkylating\":[],\"Selective ER modulator\":[\"Anti-ER\"],\n",
    "                        \"Aromatase inhibitor\":[],\"Anti-VEGF\":[],\"Anti-AR/GnRH\":[\"Androgen inhibitor\",\"GnRH (ant)agonist\"],\"Topoisomerase inhibitor\":[],\"Alkaloid\":[],\"Folate antagonist\":[\"Antifolate\"],\"Anti-EGFR\":[],\n",
    "                        \"Anti-HER2\":[],\"mTOR inhibitor\":[\"mTOR\"],\"CDK4/6 inhibitor\":[],\"Multikinase inhibitor\":[\"tyrosine kinase inhibitor\"],\n",
    "                        \"Antitumor antibiotic\":[],\"Immunotherapy\":[\"Anti-CTLA-4\",\"Anti-PD-1\",\"Immunetherapy\",\"Anti-PD-L1\"],\"Vinca Alkaloid\":[],\"Microtubule inhibitor\":[],\n",
    "                        \"MEK inhibitor\":[],\"BRAF inhibitor\":[],\"PARP inhibitor\":[],\"Anti-PDGFR\":[],\"ALK/ROS1 inhibitor\":[\"ALK inhibitor\"]}\n",
    "s=set()\n",
    "for ttype in ttypes_selected:\n",
    "    patients_ttype=set(df_meta_hmf[(df_meta_hmf[\"cancer_type_code\"]==ttype)][\"patientIdentifier\"].values)\n",
    "    d_mechanisms[ttype] = {}\n",
    "    for m in d_selected_mechanisms:\n",
    "        patients = set(df_pre[(df_pre[\"mechanism\"].str.contains(m,na=False,case=False,regex=False))&(~df_pre[\"mechanism\"].str.contains(\"placebo\",na=False,case=False))][\"patientIdentifier\"].unique())\n",
    "        # syn patients\n",
    "        for syn in d_selected_mechanisms[m]:\n",
    "            t=set(df_pre[(df_pre[\"mechanism\"].str.contains(syn,na=False,case=False,regex=False))&(~df_pre[\"mechanism\"].str.contains(\"placebo\",na=False,case=False))][\"patientIdentifier\"].unique())\n",
    "            patients=patients.union(t)\n",
    "        new_name=m.replace(\"(\",\"\").replace(\")\",\"\").replace(\" \",\"_\").replace(\"/\",\"__\").replace(\"-\",\"_\")\n",
    "        # total patients with ttype\n",
    "        selected_pat = patients.intersection(patients_ttype)\n",
    "        if len(selected_pat) >= 10:\n",
    "            samples = list(df_meta_hmf[(df_meta_hmf[\"patientIdentifier\"].isin(selected_pat))][\"sample_id\"].values)\n",
    "            d_mechanisms[ttype][new_name] = samples\n",
    "            s.add(new_name)\n",
    "            print (new_name,len(samples),len(selected_pat))\n",
    "        eqv_names[m] = new_name\n",
    "        "
   ]
  },
  {
   "cell_type": "code",
   "execution_count": 20,
   "metadata": {},
   "outputs": [
    {
     "name": "stdout",
     "output_type": "stream",
     "text": [
      "PANET\n",
      "DLBCL\n",
      "LPS\n",
      "LIHC\n",
      "THCA\n"
     ]
    },
    {
     "data": {
      "text/plain": [
       "0"
      ]
     },
     "execution_count": 20,
     "metadata": {},
     "output_type": "execute_result"
    }
   ],
   "source": [
    "c=0\n",
    "for i,x in d_mechanisms.items():\n",
    "    if len(x) == 0:\n",
    "        print (i)\n",
    "c"
   ]
  },
  {
   "cell_type": "markdown",
   "metadata": {},
   "source": [
    "### Untreated patients"
   ]
  },
  {
   "cell_type": "code",
   "execution_count": 21,
   "metadata": {},
   "outputs": [],
   "source": [
    "d_untreated={}\n",
    "for ttype in ttypes_selected:\n",
    "    patients_ttype=set(df_meta_pcawg[(df_meta_pcawg[\"cancer_type_code\"]==ttype)][\"sample_id\"].values)\n",
    "    d_untreated[ttype] = {}\n",
    "    d_untreated[ttype][\"untreated\"] = list(patients_ttype)\n",
    "        "
   ]
  },
  {
   "cell_type": "markdown",
   "metadata": {},
   "source": [
    "### Create subgroups by subtypes in BRCA\n"
   ]
  },
  {
   "cell_type": "markdown",
   "metadata": {},
   "source": [
    "##### BRCA"
   ]
  },
  {
   "cell_type": "code",
   "execution_count": 22,
   "metadata": {},
   "outputs": [],
   "source": [
    "hmf=df_meta[(df_meta[\"cancer_type_code\"]==\"BRCA\")&(df_meta[\"cohort\"]==\"Hartwig\")][\"cancer_subtype\"].value_counts()>=10\n",
    "pcawg=df_meta[(df_meta[\"cancer_type_code\"]==\"BRCA\")&(df_meta[\"cohort\"]==\"PCAWG\")][\"cancer_subtype\"].value_counts()>=10\n",
    "subtypes_selected=hmf[hmf&pcawg].index"
   ]
  },
  {
   "cell_type": "code",
   "execution_count": 23,
   "metadata": {},
   "outputs": [
    {
     "data": {
      "text/plain": [
       "Index(['ER+/HER2-', 'TNBC', 'ER+/HER2+'], dtype='object')"
      ]
     },
     "execution_count": 23,
     "metadata": {},
     "output_type": "execute_result"
    }
   ],
   "source": [
    "subtypes_selected"
   ]
  },
  {
   "cell_type": "code",
   "execution_count": 24,
   "metadata": {},
   "outputs": [],
   "source": [
    "subtypes_short_name={\"ER+/HER2-\":\"ERpos\",\"TNBC\":\"TNB\",\"ER+/HER2+\":\"HER2pos\"}"
   ]
  },
  {
   "cell_type": "code",
   "execution_count": 25,
   "metadata": {},
   "outputs": [
    {
     "name": "stdout",
     "output_type": "stream",
     "text": [
      "Platinum 27 27\n",
      "Pyrimidine_antagonist 212 212\n",
      "Taxane 230 230\n",
      "Anthracycline 265 265\n",
      "Alkylating 264 264\n",
      "Selective_ER_modulator 328 328\n",
      "Aromatase_inhibitor 288 288\n",
      "Anti_VEGF 25 25\n",
      "Anti_AR__GnRH 63 63\n",
      "Alkaloid 29 29\n",
      "Folate_antagonist 26 26\n",
      "Anti_HER2 10 10\n",
      "mTOR_inhibitor 57 57\n",
      "CDK4__6_inhibitor 62 62\n",
      "Microtubule_inhibitor 15 15\n",
      "Platinum 27 27\n",
      "Pyrimidine_antagonist 35 35\n",
      "Taxane 64 64\n",
      "Anthracycline 65 65\n",
      "Alkylating 63 63\n",
      "Pyrimidine_antagonist 20 20\n",
      "Taxane 47 47\n",
      "Anthracycline 34 34\n",
      "Alkylating 36 36\n",
      "Selective_ER_modulator 44 44\n",
      "Aromatase_inhibitor 40 40\n",
      "Anti_AR__GnRH 10 10\n",
      "Anti_HER2 44 44\n"
     ]
    }
   ],
   "source": [
    "ttype=\"BRCA\"\n",
    "for subtype in subtypes_selected:\n",
    "    samples_subtype = df_meta[df_meta[\"cancer_subtype\"]==subtype][\"sample_id\"]\n",
    "    patients_ttype=set(df_meta_hmf[(df_meta_hmf[\"cancer_type_code\"]==ttype)&(df_meta_hmf[\"sample_id\"].isin(samples_subtype))][\"patientIdentifier\"].values)\n",
    "    d_mechanisms[ttype+\"_\"+subtypes_short_name[subtype]] = {}\n",
    "    for m in d_selected_mechanisms:\n",
    "        patients = set(df_pre[(df_pre[\"mechanism\"].str.contains(m,na=False,case=False,regex=False))&(~df_pre[\"mechanism\"].str.contains(\"placebo\",na=False,case=False))][\"patientIdentifier\"].unique())\n",
    "        # syn patients\n",
    "        for syn in d_selected_mechanisms[m]:\n",
    "            t=set(df_pre[(df_pre[\"mechanism\"].str.contains(syn,na=False,case=False,regex=False))&(~df_pre[\"mechanism\"].str.contains(\"placebo\",na=False,case=False))][\"patientIdentifier\"].unique())\n",
    "            patients=patients.union(t)\n",
    "        new_name=m.replace(\"(\",\"\").replace(\")\",\"\").replace(\" \",\"_\").replace(\"/\",\"__\").replace(\"-\",\"_\")\n",
    "        # total patients with ttype\n",
    "        selected_pat = patients.intersection(patients_ttype)\n",
    "        if len(selected_pat) >= 10:\n",
    "            samples = list(df_meta_hmf[(df_meta_hmf[\"patientIdentifier\"].isin(selected_pat))][\"sample_id\"].values)\n",
    "            d_mechanisms[ttype+\"_\"+subtypes_short_name[subtype]][new_name] = samples\n",
    "            s.add(new_name)\n",
    "            print (new_name,len(samples),len(selected_pat))\n",
    "        eqv_names[m] = new_name"
   ]
  },
  {
   "cell_type": "markdown",
   "metadata": {},
   "source": [
    "##### Untreated of BRCA subtypes"
   ]
  },
  {
   "cell_type": "code",
   "execution_count": 26,
   "metadata": {},
   "outputs": [],
   "source": [
    "ttype=\"BRCA\"\n",
    "for subtype in subtypes_selected:\n",
    "    samples_subtype = samples_subtype = df_meta[(df_meta[\"cancer_subtype\"]==subtype)&(df_meta[\"cohort\"]==\"PCAWG\")][\"sample_id\"]\n",
    "    patients_ttype=set(df_meta_pcawg[(df_meta_pcawg[\"cancer_type_code\"]==ttype)&(df_meta_pcawg[\"sample_id\"].isin(samples_subtype))][\"sample_id\"].values)\n",
    "    d_untreated[ttype+\"_\"+subtypes_short_name[subtype]] = {}\n",
    "    d_untreated[ttype+\"_\"+subtypes_short_name[subtype]][\"untreated\"] = list(patients_ttype)\n"
   ]
  },
  {
   "cell_type": "markdown",
   "metadata": {},
   "source": [
    "### Colorectal MSI/POLE groups"
   ]
  },
  {
   "cell_type": "code",
   "execution_count": 27,
   "metadata": {},
   "outputs": [],
   "source": [
    "hmf=df_meta[(df_meta[\"cancer_type_code\"]==\"COREAD\")&(df_meta[\"cohort\"]==\"Hartwig\")][\"cancer_subtype\"].value_counts()>=10\n",
    "pcawg=df_meta[(df_meta[\"cancer_type_code\"]==\"COREAD\")&(df_meta[\"cohort\"]==\"PCAWG\")][\"cancer_subtype\"].value_counts()>=10\n",
    "subtypes_selected=hmf[hmf&pcawg].index"
   ]
  },
  {
   "cell_type": "code",
   "execution_count": 28,
   "metadata": {},
   "outputs": [
    {
     "data": {
      "text/plain": [
       "Index(['MSS'], dtype='object')"
      ]
     },
     "execution_count": 28,
     "metadata": {},
     "output_type": "execute_result"
    }
   ],
   "source": [
    "subtypes_selected"
   ]
  },
  {
   "cell_type": "code",
   "execution_count": 29,
   "metadata": {},
   "outputs": [],
   "source": [
    "subtypes_short_name={\"MSS\":\"MSS\",\"MSI/POLE\":\"MSI_POLE\"}"
   ]
  },
  {
   "cell_type": "code",
   "execution_count": 30,
   "metadata": {},
   "outputs": [
    {
     "name": "stdout",
     "output_type": "stream",
     "text": [
      "Platinum 269 269\n",
      "Pyrimidine_antagonist 305 305\n",
      "Anti_VEGF 192 192\n",
      "Topoisomerase_inhibitor 132 132\n",
      "Anti_EGFR 43 43\n"
     ]
    }
   ],
   "source": [
    "ttype=\"COREAD\"\n",
    "for subtype in subtypes_selected:\n",
    "    samples_subtype = df_meta[(df_meta[\"cancer_subtype\"]==subtype)&(df_meta[\"cancer_type_code\"]==\"COREAD\")][\"sample_id\"]\n",
    "    patients_ttype=set(df_meta_hmf[(df_meta_hmf[\"cancer_type_code\"]==ttype)&(df_meta_hmf[\"sample_id\"].isin(samples_subtype))][\"patientIdentifier\"].values)\n",
    "    \n",
    "    for m in d_selected_mechanisms:\n",
    "        patients = set(df_pre[(df_pre[\"mechanism\"].str.contains(m,na=False,case=False,regex=False))&(~df_pre[\"mechanism\"].str.contains(\"placebo\",na=False,case=False))][\"patientIdentifier\"].unique())\n",
    "        # syn patients\n",
    "        for syn in d_selected_mechanisms[m]:\n",
    "            t=set(df_pre[(df_pre[\"mechanism\"].str.contains(syn,na=False,case=False,regex=False))&(~df_pre[\"mechanism\"].str.contains(\"placebo\",na=False,case=False))][\"patientIdentifier\"].unique())\n",
    "            patients=patients.union(t)\n",
    "        new_name=m.replace(\"(\",\"\").replace(\")\",\"\").replace(\" \",\"_\").replace(\"/\",\"__\").replace(\"-\",\"_\")\n",
    "        # total patients with ttype\n",
    "        selected_pat = patients.intersection(patients_ttype)\n",
    "        if len(selected_pat) >= 10:\n",
    "            if not(ttype+\"_\"+subtypes_short_name[subtype])  in d_mechanisms:\n",
    "                d_mechanisms[ttype+\"_\"+subtypes_short_name[subtype]] = {}\n",
    "            samples = list(df_meta_hmf[(df_meta_hmf[\"patientIdentifier\"].isin(selected_pat))][\"sample_id\"].values)\n",
    "            d_mechanisms[ttype+\"_\"+subtypes_short_name[subtype]][new_name] = samples\n",
    "            s.add(new_name)\n",
    "            print (new_name,len(samples),len(selected_pat))\n",
    "        eqv_names[m] = new_name"
   ]
  },
  {
   "cell_type": "markdown",
   "metadata": {},
   "source": [
    "##### Untreated of COREAD subtypes"
   ]
  },
  {
   "cell_type": "code",
   "execution_count": 31,
   "metadata": {},
   "outputs": [],
   "source": [
    "ttype=\"COREAD\"\n",
    "for subtype in subtypes_selected:\n",
    "    samples_subtype = df_meta[(df_meta[\"cancer_subtype\"]==subtype)&(df_meta[\"cancer_type_code\"]==\"COREAD\")&(df_meta[\"cohort\"]==\"PCAWG\")][\"sample_id\"]\n",
    "    patients_ttype=set(df_meta_pcawg[(df_meta_pcawg[\"cancer_type_code\"]==ttype)&(df_meta_pcawg[\"sample_id\"].isin(samples_subtype))][\"sample_id\"].values)\n",
    "    d_untreated[ttype+\"_\"+subtypes_short_name[subtype]] = {}\n",
    "    d_untreated[ttype+\"_\"+subtypes_short_name[subtype]][\"untreated\"] = list(patients_ttype)\n"
   ]
  },
  {
   "cell_type": "markdown",
   "metadata": {},
   "source": [
    "##### This data will be then used for the positive selection analysis"
   ]
  },
  {
   "cell_type": "code",
   "execution_count": 32,
   "metadata": {},
   "outputs": [],
   "source": [
    "with open(\"../data/samples_mechanisms_updated.json\",'w') as f: # This json will be used by the positive selection analysis in groups of patients treated with same treatement\n",
    "    json.dump(d_mechanisms,f)"
   ]
  },
  {
   "cell_type": "code",
   "execution_count": 33,
   "metadata": {},
   "outputs": [],
   "source": [
    "with open(\"../data/samples_untreated_updated.json\",'w') as f: # This json will be used by the positive selection analysis in groups of untreated patients\n",
    "    json.dump(d_untreated,f)"
   ]
  },
  {
   "cell_type": "code",
   "execution_count": null,
   "metadata": {},
   "outputs": [],
   "source": [
    "!scp ../data/samples_mechanisms_updated.json   gw2hpcs03:/home/cog/fmartinez/scripts/resistance/data/control_hmf/ # Transfer to HPC perform the discovery\n",
    "!scp ../data/samples_untreated_updated.json   gw2hpcs03:/home/cog/fmartinez/scripts/resistance/data/control_hmf/ # Transfer to HPC perform the discovery\n"
   ]
  }
 ],
 "metadata": {
  "kernelspec": {
   "display_name": "Python 3 (ipykernel)",
   "language": "python",
   "name": "python3"
  },
  "language_info": {
   "codemirror_mode": {
    "name": "ipython",
    "version": 3
   },
   "file_extension": ".py",
   "mimetype": "text/x-python",
   "name": "python",
   "nbconvert_exporter": "python",
   "pygments_lexer": "ipython3",
   "version": "3.9.16"
  },
  "widgets": {
   "application/vnd.jupyter.widget-state+json": {
    "state": {},
    "version_major": 2,
    "version_minor": 0
   }
  }
 },
 "nbformat": 4,
 "nbformat_minor": 4
}
